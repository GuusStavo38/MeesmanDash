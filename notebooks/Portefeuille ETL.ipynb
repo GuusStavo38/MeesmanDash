{
 "cells": [
  {
   "cell_type": "code",
   "execution_count": 1,
   "metadata": {},
   "outputs": [],
   "source": [
    "from selenium import webdriver\n",
    "from selenium.common.exceptions import NoSuchElementException\n",
    "import pandas as pd\n",
    "import dateparser\n",
    "from MeesmanScraper import config as cfg"
   ]
  },
  {
   "cell_type": "code",
   "execution_count": 10,
   "metadata": {},
   "outputs": [],
   "source": [
    "conf = cfg.get_configuration()\n",
    "user_meesman = conf['Meesman'].get('user')\n",
    "pw_meesman = conf['Meesman'].get('password')\n",
    "host_mysql = conf['MySQL'].get('host')\n",
    "user_mysql = conf['MySQL'].get('user')\n",
    "pw_mysql = conf['MySQL'].get('password')\n",
    "db_mysql = conf['MySQL'].get('database')"
   ]
  },
  {
   "cell_type": "code",
   "execution_count": 67,
   "metadata": {},
   "outputs": [],
   "source": [
    "browser = webdriver.Chrome()\n",
    "browser.get('https://mijn.meesman.nl/login')"
   ]
  },
  {
   "cell_type": "code",
   "execution_count": 68,
   "metadata": {},
   "outputs": [],
   "source": [
    "username = browser.find_element_by_id('username')\n",
    "username.send_keys(user_meesman)"
   ]
  },
  {
   "cell_type": "code",
   "execution_count": 69,
   "metadata": {},
   "outputs": [],
   "source": [
    "password = browser.find_element_by_id('password')\n",
    "password.send_keys(pw_meesman)"
   ]
  },
  {
   "cell_type": "code",
   "execution_count": 70,
   "metadata": {},
   "outputs": [],
   "source": [
    "login = browser.find_element_by_xpath('//*[@id=\"login-submit\"]')\n",
    "login.click()"
   ]
  },
  {
   "cell_type": "code",
   "execution_count": 71,
   "metadata": {},
   "outputs": [],
   "source": [
    "portefeuille = browser.find_element_by_link_text('Portefeuille')\n",
    "portefeuille.click()"
   ]
  },
  {
   "cell_type": "code",
   "execution_count": 73,
   "metadata": {},
   "outputs": [],
   "source": [
    "table = browser.find_element_by_class_name('meesmantable')\n",
    "table_html = table.get_attribute('outerHTML')\n",
    "df = pd.read_html(table_html, thousands='.', decimal=',')\n",
    "meesmantable = df[0].dropna()"
   ]
  },
  {
   "cell_type": "code",
   "execution_count": 75,
   "metadata": {},
   "outputs": [],
   "source": [
    "browser.close()"
   ]
  },
  {
   "cell_type": "code",
   "execution_count": 76,
   "metadata": {},
   "outputs": [],
   "source": [
    "meesmantable = meesmantable.assign(Datum=meesmantable.Datum.map(lambda x: dateparser.parse(x, languages=['nl'])))"
   ]
  },
  {
   "cell_type": "code",
   "execution_count": 77,
   "metadata": {},
   "outputs": [],
   "source": [
    "meesmantable['Koers'] = meesmantable.Koers.str.replace('[€/s.]', '').str.replace(',', '.').astype(float)"
   ]
  },
  {
   "cell_type": "code",
   "execution_count": 78,
   "metadata": {},
   "outputs": [],
   "source": [
    "meesmantable['Waarde'] = meesmantable.Waarde.str.replace('[€/s.]', '').str.replace(',', '.').astype(float)"
   ]
  },
  {
   "cell_type": "code",
   "execution_count": 83,
   "metadata": {},
   "outputs": [],
   "source": [
    "meesmantable['Actuele weging'] = meesmantable['Actuele weging'].str.replace('\\%', '').astype(int) / 100"
   ]
  },
  {
   "cell_type": "code",
   "execution_count": 93,
   "metadata": {},
   "outputs": [
    {
     "data": {
      "text/html": [
       "<div>\n",
       "<style scoped>\n",
       "    .dataframe tbody tr th:only-of-type {\n",
       "        vertical-align: middle;\n",
       "    }\n",
       "\n",
       "    .dataframe tbody tr th {\n",
       "        vertical-align: top;\n",
       "    }\n",
       "\n",
       "    .dataframe thead th {\n",
       "        text-align: right;\n",
       "    }\n",
       "</style>\n",
       "<table border=\"1\" class=\"dataframe\">\n",
       "  <thead>\n",
       "    <tr style=\"text-align: right;\">\n",
       "      <th></th>\n",
       "      <th>Fonds</th>\n",
       "      <th>Aantal</th>\n",
       "      <th>Koers</th>\n",
       "      <th>Datum</th>\n",
       "      <th>Waarde</th>\n",
       "      <th>Actuele weging</th>\n",
       "    </tr>\n",
       "  </thead>\n",
       "  <tbody>\n",
       "    <tr>\n",
       "      <th>1</th>\n",
       "      <td>Aandelen Wereldwijd</td>\n",
       "      <td>34.2931</td>\n",
       "      <td>111.8083</td>\n",
       "      <td>2018-10-12</td>\n",
       "      <td>3834.25</td>\n",
       "      <td>0.70</td>\n",
       "    </tr>\n",
       "    <tr>\n",
       "      <th>2</th>\n",
       "      <td>Aandelen Opkomende Landen</td>\n",
       "      <td>11.3441</td>\n",
       "      <td>75.3263</td>\n",
       "      <td>2018-10-12</td>\n",
       "      <td>854.51</td>\n",
       "      <td>0.16</td>\n",
       "    </tr>\n",
       "    <tr>\n",
       "      <th>5</th>\n",
       "      <td>Obligaties Wereldwijd</td>\n",
       "      <td>15.4031</td>\n",
       "      <td>51.1995</td>\n",
       "      <td>2018-10-12</td>\n",
       "      <td>788.63</td>\n",
       "      <td>0.14</td>\n",
       "    </tr>\n",
       "  </tbody>\n",
       "</table>\n",
       "</div>"
      ],
      "text/plain": [
       "                       Fonds   Aantal     Koers      Datum   Waarde  \\\n",
       "1        Aandelen Wereldwijd  34.2931  111.8083 2018-10-12  3834.25   \n",
       "2  Aandelen Opkomende Landen  11.3441   75.3263 2018-10-12   854.51   \n",
       "5      Obligaties Wereldwijd  15.4031   51.1995 2018-10-12   788.63   \n",
       "\n",
       "   Actuele weging  \n",
       "1            0.70  \n",
       "2            0.16  \n",
       "5            0.14  "
      ]
     },
     "execution_count": 93,
     "metadata": {},
     "output_type": "execute_result"
    }
   ],
   "source": [
    "meesmantable"
   ]
  },
  {
   "cell_type": "code",
   "execution_count": 85,
   "metadata": {},
   "outputs": [],
   "source": [
    "from sqlalchemy import create_engine"
   ]
  },
  {
   "cell_type": "code",
   "execution_count": 87,
   "metadata": {},
   "outputs": [],
   "source": [
    "engine = create_engine('mysql://{}:{}@{}/{}'.format(user_mysql, pw_mysql,\n",
    "                                                    host_mysql, db_mysql))"
   ]
  },
  {
   "cell_type": "code",
   "execution_count": 88,
   "metadata": {},
   "outputs": [],
   "source": [
    "con = engine.connect()"
   ]
  },
  {
   "cell_type": "code",
   "execution_count": 90,
   "metadata": {},
   "outputs": [],
   "source": [
    "meesmantable.to_sql('portefeuille', con = con, if_exists='append', index=False, )"
   ]
  },
  {
   "cell_type": "code",
   "execution_count": 91,
   "metadata": {},
   "outputs": [],
   "source": [
    "con.close()"
   ]
  },
  {
   "cell_type": "code",
   "execution_count": 92,
   "metadata": {},
   "outputs": [
    {
     "data": {
      "text/plain": [
       "True"
      ]
     },
     "execution_count": 92,
     "metadata": {},
     "output_type": "execute_result"
    }
   ],
   "source": [
    "engine.has_table('portefeuille')"
   ]
  }
 ],
 "metadata": {
  "kernelspec": {
   "display_name": "Meesman",
   "language": "python",
   "name": "meesman"
  },
  "language_info": {
   "codemirror_mode": {
    "name": "ipython",
    "version": 3
   },
   "file_extension": ".py",
   "mimetype": "text/x-python",
   "name": "python",
   "nbconvert_exporter": "python",
   "pygments_lexer": "ipython3",
   "version": "3.6.3"
  }
 },
 "nbformat": 4,
 "nbformat_minor": 2
}
